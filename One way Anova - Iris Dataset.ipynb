{
 "cells": [
  {
   "cell_type": "markdown",
   "id": "113652ae-38fd-4bb9-be0b-547e833bfc85",
   "metadata": {},
   "source": [
    "**One-Way ANOVA:**\n",
    "\n",
    "Used when you have `1 categorical variable with 3 or more groups` and `1 numerical dependent variable`.\n",
    "\n",
    "___\n",
    "\n",
    "**Two-Way ANOVA:**\n",
    "\n",
    "Used when you have `2 categorical variables (each with 2 or more groups)` and `1 numerical dependent variable`."
   ]
  },
  {
   "cell_type": "code",
   "execution_count": null,
   "id": "5445621e-95be-4fbd-9e0a-1645cbefdae7",
   "metadata": {},
   "outputs": [],
   "source": []
  },
  {
   "cell_type": "markdown",
   "id": "bb514f93-4f9d-48de-b1af-6ed80de39871",
   "metadata": {},
   "source": [
    "### How to do One-way Anova? Step by Step\n",
    "\n",
    "Category and Numerical\n",
    "\n",
    "1. **Determine the number of groups** in the  category column.\n",
    "   - If 2 groups: Use **t-test**.\n",
    "   - If 3+ groups: Use **one-way ANOVA**.\n",
    "\n",
    "2. **Check assumptions**: One-way ANOVA assumes normal distribution of data and equal variances across groups.\n",
    "\n",
    "   - **Shapiro-Wilk test** for normality on each group.\n",
    "   - **Levene's test** for equal variances.\n",
    "   - If assumptions are violated:\n",
    "     - Use **Kruskal-Wallis test** (non-parametric) for non-normal data.\n",
    "     - Use **Welch’s ANOVA** for unequal variances.\n",
    "\n",
    "4. **Perform ANOVA**:\n",
    "   - Run one-way ANOVA if assumptions are met.\n",
    "   - Interpret based on the **p-value**.\n",
    "     \n",
    "   - **Optional: Use critical value** approach if preferred, but p-value interpretation is simpler and more common**\n",
    "\n",
    "5. **Post-hoc testing**:\n",
    "   - If ANOVA shows significance, perform **Tukey's HSD** to determine which group means differ.\n"
   ]
  },
  {
   "cell_type": "code",
   "execution_count": null,
   "id": "ab44ef60-0c4a-4198-a4a8-bdbf1fb1ecff",
   "metadata": {},
   "outputs": [],
   "source": []
  },
  {
   "cell_type": "code",
   "execution_count": 3,
   "id": "e3204ba3-7921-4a4c-8d6f-188df9f151ff",
   "metadata": {},
   "outputs": [],
   "source": [
    "import seaborn as sns\n",
    "import scipy.stats as stats\n",
    "import pandas as pd\n",
    "import statsmodels.stats.multicomp as mc"
   ]
  },
  {
   "cell_type": "code",
   "execution_count": 4,
   "id": "5b0b2777-1589-4ded-8faf-43466a59f238",
   "metadata": {},
   "outputs": [],
   "source": [
    "# so you can get this dataset from searborn"
   ]
  },
  {
   "cell_type": "code",
   "execution_count": 5,
   "id": "6bd84f80-ad78-4bd1-89d2-d116bf763daf",
   "metadata": {},
   "outputs": [
    {
     "name": "stdout",
     "output_type": "stream",
     "text": [
      "['anagrams', 'anscombe', 'attention', 'brain_networks', 'car_crashes', 'diamonds', 'dots', 'dowjones', 'exercise', 'flights', 'fmri', 'geyser', 'glue', 'healthexp', 'iris', 'mpg', 'penguins', 'planets', 'seaice', 'taxis', 'tips', 'titanic', 'anagrams', 'anagrams', 'anscombe', 'anscombe', 'attention', 'attention', 'brain_networks', 'brain_networks', 'car_crashes', 'car_crashes', 'diamonds', 'diamonds', 'dots', 'dots', 'dowjones', 'dowjones', 'exercise', 'exercise', 'flights', 'flights', 'fmri', 'fmri', 'geyser', 'geyser', 'glue', 'glue', 'healthexp', 'healthexp', 'iris', 'iris', 'mpg', 'mpg', 'penguins', 'penguins', 'planets', 'planets', 'seaice', 'seaice', 'taxis', 'taxis', 'tips', 'tips', 'titanic', 'titanic', 'anagrams', 'anscombe', 'attention', 'brain_networks', 'car_crashes', 'diamonds', 'dots', 'dowjones', 'exercise', 'flights', 'fmri', 'geyser', 'glue', 'healthexp', 'iris', 'mpg', 'penguins', 'planets', 'seaice', 'taxis', 'tips', 'titanic']\n"
     ]
    }
   ],
   "source": [
    "print(sns.get_dataset_names())"
   ]
  },
  {
   "cell_type": "code",
   "execution_count": null,
   "id": "17c4a5e9-40bb-4e91-bfb7-c60612ad032f",
   "metadata": {},
   "outputs": [],
   "source": []
  },
  {
   "cell_type": "code",
   "execution_count": 6,
   "id": "fe355d65-7927-43af-afab-66cd22d76854",
   "metadata": {},
   "outputs": [
    {
     "data": {
      "text/html": [
       "<div>\n",
       "<style scoped>\n",
       "    .dataframe tbody tr th:only-of-type {\n",
       "        vertical-align: middle;\n",
       "    }\n",
       "\n",
       "    .dataframe tbody tr th {\n",
       "        vertical-align: top;\n",
       "    }\n",
       "\n",
       "    .dataframe thead th {\n",
       "        text-align: right;\n",
       "    }\n",
       "</style>\n",
       "<table border=\"1\" class=\"dataframe\">\n",
       "  <thead>\n",
       "    <tr style=\"text-align: right;\">\n",
       "      <th></th>\n",
       "      <th>sepal_length</th>\n",
       "      <th>sepal_width</th>\n",
       "      <th>petal_length</th>\n",
       "      <th>petal_width</th>\n",
       "      <th>species</th>\n",
       "    </tr>\n",
       "  </thead>\n",
       "  <tbody>\n",
       "    <tr>\n",
       "      <th>0</th>\n",
       "      <td>5.1</td>\n",
       "      <td>3.5</td>\n",
       "      <td>1.4</td>\n",
       "      <td>0.2</td>\n",
       "      <td>setosa</td>\n",
       "    </tr>\n",
       "    <tr>\n",
       "      <th>1</th>\n",
       "      <td>4.9</td>\n",
       "      <td>3.0</td>\n",
       "      <td>1.4</td>\n",
       "      <td>0.2</td>\n",
       "      <td>setosa</td>\n",
       "    </tr>\n",
       "    <tr>\n",
       "      <th>2</th>\n",
       "      <td>4.7</td>\n",
       "      <td>3.2</td>\n",
       "      <td>1.3</td>\n",
       "      <td>0.2</td>\n",
       "      <td>setosa</td>\n",
       "    </tr>\n",
       "    <tr>\n",
       "      <th>3</th>\n",
       "      <td>4.6</td>\n",
       "      <td>3.1</td>\n",
       "      <td>1.5</td>\n",
       "      <td>0.2</td>\n",
       "      <td>setosa</td>\n",
       "    </tr>\n",
       "    <tr>\n",
       "      <th>4</th>\n",
       "      <td>5.0</td>\n",
       "      <td>3.6</td>\n",
       "      <td>1.4</td>\n",
       "      <td>0.2</td>\n",
       "      <td>setosa</td>\n",
       "    </tr>\n",
       "  </tbody>\n",
       "</table>\n",
       "</div>"
      ],
      "text/plain": [
       "   sepal_length  sepal_width  petal_length  petal_width species\n",
       "0           5.1          3.5           1.4          0.2  setosa\n",
       "1           4.9          3.0           1.4          0.2  setosa\n",
       "2           4.7          3.2           1.3          0.2  setosa\n",
       "3           4.6          3.1           1.5          0.2  setosa\n",
       "4           5.0          3.6           1.4          0.2  setosa"
      ]
     },
     "execution_count": 6,
     "metadata": {},
     "output_type": "execute_result"
    }
   ],
   "source": [
    "df=sns.load_dataset(\"iris\")\n",
    "df.head()"
   ]
  },
  {
   "cell_type": "code",
   "execution_count": 7,
   "id": "049a0f0c-64e5-44cc-bc45-d84295cfa46b",
   "metadata": {},
   "outputs": [
    {
     "name": "stdout",
     "output_type": "stream",
     "text": [
      "<class 'pandas.core.frame.DataFrame'>\n",
      "RangeIndex: 150 entries, 0 to 149\n",
      "Data columns (total 5 columns):\n",
      " #   Column        Non-Null Count  Dtype  \n",
      "---  ------        --------------  -----  \n",
      " 0   sepal_length  150 non-null    float64\n",
      " 1   sepal_width   150 non-null    float64\n",
      " 2   petal_length  150 non-null    float64\n",
      " 3   petal_width   150 non-null    float64\n",
      " 4   species       150 non-null    object \n",
      "dtypes: float64(4), object(1)\n",
      "memory usage: 6.0+ KB\n"
     ]
    }
   ],
   "source": [
    "df.info()"
   ]
  },
  {
   "cell_type": "code",
   "execution_count": 8,
   "id": "f807d850-3636-4186-857d-e7805fe72fee",
   "metadata": {},
   "outputs": [
    {
     "data": {
      "text/html": [
       "<div>\n",
       "<style scoped>\n",
       "    .dataframe tbody tr th:only-of-type {\n",
       "        vertical-align: middle;\n",
       "    }\n",
       "\n",
       "    .dataframe tbody tr th {\n",
       "        vertical-align: top;\n",
       "    }\n",
       "\n",
       "    .dataframe thead th {\n",
       "        text-align: right;\n",
       "    }\n",
       "</style>\n",
       "<table border=\"1\" class=\"dataframe\">\n",
       "  <thead>\n",
       "    <tr style=\"text-align: right;\">\n",
       "      <th></th>\n",
       "      <th>sepal_length</th>\n",
       "      <th>sepal_width</th>\n",
       "      <th>petal_length</th>\n",
       "      <th>petal_width</th>\n",
       "    </tr>\n",
       "  </thead>\n",
       "  <tbody>\n",
       "    <tr>\n",
       "      <th>count</th>\n",
       "      <td>150.000000</td>\n",
       "      <td>150.000000</td>\n",
       "      <td>150.000000</td>\n",
       "      <td>150.000000</td>\n",
       "    </tr>\n",
       "    <tr>\n",
       "      <th>mean</th>\n",
       "      <td>5.843333</td>\n",
       "      <td>3.057333</td>\n",
       "      <td>3.758000</td>\n",
       "      <td>1.199333</td>\n",
       "    </tr>\n",
       "    <tr>\n",
       "      <th>std</th>\n",
       "      <td>0.828066</td>\n",
       "      <td>0.435866</td>\n",
       "      <td>1.765298</td>\n",
       "      <td>0.762238</td>\n",
       "    </tr>\n",
       "    <tr>\n",
       "      <th>min</th>\n",
       "      <td>4.300000</td>\n",
       "      <td>2.000000</td>\n",
       "      <td>1.000000</td>\n",
       "      <td>0.100000</td>\n",
       "    </tr>\n",
       "    <tr>\n",
       "      <th>25%</th>\n",
       "      <td>5.100000</td>\n",
       "      <td>2.800000</td>\n",
       "      <td>1.600000</td>\n",
       "      <td>0.300000</td>\n",
       "    </tr>\n",
       "    <tr>\n",
       "      <th>50%</th>\n",
       "      <td>5.800000</td>\n",
       "      <td>3.000000</td>\n",
       "      <td>4.350000</td>\n",
       "      <td>1.300000</td>\n",
       "    </tr>\n",
       "    <tr>\n",
       "      <th>75%</th>\n",
       "      <td>6.400000</td>\n",
       "      <td>3.300000</td>\n",
       "      <td>5.100000</td>\n",
       "      <td>1.800000</td>\n",
       "    </tr>\n",
       "    <tr>\n",
       "      <th>max</th>\n",
       "      <td>7.900000</td>\n",
       "      <td>4.400000</td>\n",
       "      <td>6.900000</td>\n",
       "      <td>2.500000</td>\n",
       "    </tr>\n",
       "  </tbody>\n",
       "</table>\n",
       "</div>"
      ],
      "text/plain": [
       "       sepal_length  sepal_width  petal_length  petal_width\n",
       "count    150.000000   150.000000    150.000000   150.000000\n",
       "mean       5.843333     3.057333      3.758000     1.199333\n",
       "std        0.828066     0.435866      1.765298     0.762238\n",
       "min        4.300000     2.000000      1.000000     0.100000\n",
       "25%        5.100000     2.800000      1.600000     0.300000\n",
       "50%        5.800000     3.000000      4.350000     1.300000\n",
       "75%        6.400000     3.300000      5.100000     1.800000\n",
       "max        7.900000     4.400000      6.900000     2.500000"
      ]
     },
     "execution_count": 8,
     "metadata": {},
     "output_type": "execute_result"
    }
   ],
   "source": [
    "df.describe()"
   ]
  },
  {
   "cell_type": "code",
   "execution_count": null,
   "id": "499031e0-3a76-419f-a15c-bfb394f09817",
   "metadata": {},
   "outputs": [],
   "source": []
  },
  {
   "cell_type": "markdown",
   "id": "fec74aee-8c77-4a06-9af7-508f9cecff34",
   "metadata": {},
   "source": [
    "## Q) Is there a statistically significant difference in the mean `sepal_width` among the three species of iris flowers (setosa, versicolor, and virginica) at a 0.05 significance level?"
   ]
  },
  {
   "cell_type": "code",
   "execution_count": null,
   "id": "a2b78f19-8aa0-405d-92c2-04ebd878e7c8",
   "metadata": {},
   "outputs": [],
   "source": []
  },
  {
   "cell_type": "markdown",
   "id": "1b82aac0-dfe9-4db7-bbdf-054208a3fc4b",
   "metadata": {},
   "source": [
    "**From the .info() function, I learned that `species` is a categorical variable while `sepal_width` is a numerical variable. Therefore, I can either use an independent t-test or ANOVA. To determine which test to apply, I need to check the number of unique groups in the `species` column.**"
   ]
  },
  {
   "cell_type": "code",
   "execution_count": 11,
   "id": "d5cc3912-7257-435b-b01f-c311c6fbb59f",
   "metadata": {},
   "outputs": [
    {
     "data": {
      "text/plain": [
       "3"
      ]
     },
     "execution_count": 11,
     "metadata": {},
     "output_type": "execute_result"
    }
   ],
   "source": [
    "df[\"species\"].nunique()"
   ]
  },
  {
   "cell_type": "code",
   "execution_count": 12,
   "id": "9e74b6b8-2d53-4798-82f4-cbcd53ca4997",
   "metadata": {},
   "outputs": [
    {
     "data": {
      "text/plain": [
       "array(['setosa', 'versicolor', 'virginica'], dtype=object)"
      ]
     },
     "execution_count": 12,
     "metadata": {},
     "output_type": "execute_result"
    }
   ],
   "source": [
    "df[\"species\"].unique()"
   ]
  },
  {
   "cell_type": "markdown",
   "id": "951d9aca-2353-4248-8247-bcf8a18e6e94",
   "metadata": {},
   "source": [
    "**There are 3 groups, so ANOVA is appropriate. Before proceeding, I need to verify if the assumptions of ANOVA are met.**"
   ]
  },
  {
   "cell_type": "markdown",
   "id": "9b1b4c12-3b4b-46e0-b6e1-7ce373f8f5fd",
   "metadata": {},
   "source": [
    "**Shaprio Test - To check Normality**"
   ]
  },
  {
   "cell_type": "raw",
   "id": "519c8531-907a-45a5-a50b-c22d190324f7",
   "metadata": {},
   "source": [
    "Shapiro test Hypothesis:\n",
    "\n",
    "H0: (Null Hypothesis): The data follows a normal distribution.\n",
    "H1: (Alternative Hypothesis): The data does not follow a normal distribution."
   ]
  },
  {
   "cell_type": "code",
   "execution_count": 15,
   "id": "4ba642fa-a7a0-4ab2-9ab8-fc1e3a0ccd32",
   "metadata": {},
   "outputs": [
    {
     "data": {
      "text/plain": [
       "ShapiroResult(statistic=0.9849168062210083, pvalue=0.10112646222114563)"
      ]
     },
     "execution_count": 15,
     "metadata": {},
     "output_type": "execute_result"
    }
   ],
   "source": [
    "stats.shapiro(df[\"sepal_width\"])"
   ]
  },
  {
   "cell_type": "raw",
   "id": "46499fd0-4bdb-4ee1-8d96-8fa19cd636ba",
   "metadata": {},
   "source": [
    "The p-value is 0.1011, which is greater than 0.05. Therefore, we fail to reject the null hypothesis, meaning the 'sepal_width' data follows a normal distribution."
   ]
  },
  {
   "cell_type": "code",
   "execution_count": null,
   "id": "7ba37a2a-8841-4cb2-9f56-404ab647af02",
   "metadata": {},
   "outputs": [],
   "source": []
  },
  {
   "cell_type": "markdown",
   "id": "9bf9d1b3-9343-47c7-aaf9-76224a169b4f",
   "metadata": {},
   "source": [
    "**Levene's Test for Homogeneity of Variance**"
   ]
  },
  {
   "cell_type": "raw",
   "id": "399eda21-da81-467f-80db-7c97fa54d959",
   "metadata": {},
   "source": [
    "Levene test Hypothesis:\n",
    "\n",
    "Ho: The groups have equal variance\n",
    "H1: The groups have unequal variance"
   ]
  },
  {
   "cell_type": "code",
   "execution_count": 17,
   "id": "e939504d-da94-404b-871e-4641ba771ce7",
   "metadata": {},
   "outputs": [
    {
     "data": {
      "text/plain": [
       "array(['setosa', 'versicolor', 'virginica'], dtype=object)"
      ]
     },
     "execution_count": 17,
     "metadata": {},
     "output_type": "execute_result"
    }
   ],
   "source": [
    "df[\"species\"].unique()"
   ]
  },
  {
   "cell_type": "code",
   "execution_count": 18,
   "id": "6f17e841-a1e1-4dbd-be7e-218967041b37",
   "metadata": {},
   "outputs": [],
   "source": [
    "#creating groups\n",
    "group_1=df[df[\"species\"]==\"setosa\"][\"sepal_width\"]\n",
    "group_2=df[df[\"species\"]==\"versicolor\"][\"sepal_width\"]\n",
    "group_3=df[df[\"species\"]==\"virginica\"][\"sepal_width\"]"
   ]
  },
  {
   "cell_type": "code",
   "execution_count": 19,
   "id": "d0c559de-a044-49f9-8d70-15f502ca7c55",
   "metadata": {},
   "outputs": [
    {
     "data": {
      "text/plain": [
       "LeveneResult(statistic=0.5902115655853319, pvalue=0.5555178984739075)"
      ]
     },
     "execution_count": 19,
     "metadata": {},
     "output_type": "execute_result"
    }
   ],
   "source": [
    "stats.levene(group_1,group_2,group_3)"
   ]
  },
  {
   "cell_type": "raw",
   "id": "bb87e9e6-6897-43c2-9c64-b0e5bd580cfa",
   "metadata": {},
   "source": [
    "The p-value is 0.5555, which is greater than 0.05. Therefore, we fail to reject the null hypothesis, meaning the data groups have equal variances."
   ]
  },
  {
   "cell_type": "markdown",
   "id": "b3296bef-9210-4d3e-b874-e0a87468afd8",
   "metadata": {},
   "source": [
    "**Since both assumptions—normality and equal variances—are satisfied, we can confidently proceed with the ANOVA test to compare the mean 'sepal_width' values across the different species groups.**"
   ]
  },
  {
   "cell_type": "code",
   "execution_count": null,
   "id": "1fe8904c-9817-41f6-ab25-26f95474aa8a",
   "metadata": {},
   "outputs": [],
   "source": []
  },
  {
   "cell_type": "markdown",
   "id": "e4100f56-ca10-48cd-93ea-4e5c64d81395",
   "metadata": {},
   "source": [
    "### One_Way Anova Test"
   ]
  },
  {
   "cell_type": "markdown",
   "id": "e6aee2e5-ed3e-41ca-8405-f73837c35dd9",
   "metadata": {},
   "source": [
    "#### Hypothesis \n",
    "\n",
    "Ho: The mean 'sepal_width' is the same across all species groups.\n",
    "\n",
    "H1: At least one species group has a different mean 'sepal_width'.\n"
   ]
  },
  {
   "cell_type": "code",
   "execution_count": null,
   "id": "1c5033ef-b98f-4520-965c-b4da3d579288",
   "metadata": {},
   "outputs": [],
   "source": []
  },
  {
   "cell_type": "markdown",
   "id": "dce9262d-9dcc-484c-b5e8-9620e13da76f",
   "metadata": {},
   "source": [
    "**Pvalue Method**"
   ]
  },
  {
   "cell_type": "code",
   "execution_count": 23,
   "id": "7be79d26-decc-4f33-948f-f987d7462c87",
   "metadata": {},
   "outputs": [
    {
     "data": {
      "text/plain": [
       "F_onewayResult(statistic=49.160040089612075, pvalue=4.492017133309115e-17)"
      ]
     },
     "execution_count": 23,
     "metadata": {},
     "output_type": "execute_result"
    }
   ],
   "source": [
    "stats.f_oneway(group_1,group_2,group_3)"
   ]
  },
  {
   "cell_type": "code",
   "execution_count": null,
   "id": "30b5a8c5-b20f-4157-ab85-e92a3d214bd5",
   "metadata": {},
   "outputs": [],
   "source": []
  },
  {
   "cell_type": "markdown",
   "id": "0f92c0fa-37b0-4833-86d2-cbea3778fa3f",
   "metadata": {},
   "source": [
    "**Since the p-value (4.49e-17) is much less than 0.05, we reject the null hypothesis. This means that at least one of the species groups has a significantly different mean 'sepal_width' compared to the others.**"
   ]
  },
  {
   "cell_type": "code",
   "execution_count": null,
   "id": "0e56b28d-5041-42ba-9ab9-5f117287ef87",
   "metadata": {},
   "outputs": [],
   "source": []
  },
  {
   "cell_type": "markdown",
   "id": "9687d666-29ef-4c84-ad72-0016d879b5da",
   "metadata": {},
   "source": [
    "**Critical Value Method (optional)**"
   ]
  },
  {
   "cell_type": "code",
   "execution_count": 26,
   "id": "b1b01b8f-1aba-4f80-969f-e6bccf37dea5",
   "metadata": {},
   "outputs": [],
   "source": [
    "q=0.05 #significance level"
   ]
  },
  {
   "cell_type": "code",
   "execution_count": 27,
   "id": "fdd17169-f9f7-4700-af91-60c36a92166c",
   "metadata": {},
   "outputs": [
    {
     "data": {
      "text/plain": [
       "150"
      ]
     },
     "execution_count": 27,
     "metadata": {},
     "output_type": "execute_result"
    }
   ],
   "source": [
    "N= df.shape[0]\n",
    "N"
   ]
  },
  {
   "cell_type": "code",
   "execution_count": 28,
   "id": "780d03ac-fca6-44de-83dc-c2af7bd54e53",
   "metadata": {},
   "outputs": [
    {
     "data": {
      "text/plain": [
       "3"
      ]
     },
     "execution_count": 28,
     "metadata": {},
     "output_type": "execute_result"
    }
   ],
   "source": [
    "t=3 # no of groups\n",
    "t"
   ]
  },
  {
   "cell_type": "code",
   "execution_count": 29,
   "id": "98e040ef-6bfb-428f-8c25-ed13e7f6b53d",
   "metadata": {},
   "outputs": [
    {
     "data": {
      "text/plain": [
       "3.057620651649394"
      ]
     },
     "execution_count": 29,
     "metadata": {},
     "output_type": "execute_result"
    }
   ],
   "source": [
    "stats.f.isf(q=0.05, dfn=t-1, dfd=N-t)"
   ]
  },
  {
   "cell_type": "code",
   "execution_count": null,
   "id": "5ce0e5a9-de9a-4a94-af3d-ae90bfd7b143",
   "metadata": {},
   "outputs": [],
   "source": []
  },
  {
   "attachments": {},
   "cell_type": "markdown",
   "id": "0fcacc67-c69d-40f0-86b4-3d20899706d0",
   "metadata": {},
   "source": [
    "**The calculated F-statistic (49.16) is far greater than the critical value (3.06). This places the F-statistic in the critical region, so we also reject the null hypothesis using the critical value method, further confirming that at least one group has a different mean.**"
   ]
  },
  {
   "cell_type": "code",
   "execution_count": null,
   "id": "7a73db86-8afa-4080-b3f6-c6ea1eac0962",
   "metadata": {},
   "outputs": [],
   "source": []
  },
  {
   "attachments": {
    "9f33fad3-d813-454c-a6dc-83fbbdbcef2c.png": {
     "image/png": "[encoded data removed]"
    }
   },
   "cell_type": "markdown",
   "id": "65b71a7c-7ec7-48dd-b0e9-14a503550d9e",
   "metadata": {},
   "source": [
    "![image.png](attachment:9f33fad3-d813-454c-a6dc-83fbbdbcef2c.png)\n",
    "\n",
    "test_statistics = green\n",
    "\n",
    "**The calculated F-statistic (49.16) is far greater than the critical value (3.06). This places the F-statistic in the critical region, so we also reject the null hypothesis using the critical value method, further confirming that at least one group has a different mean.**"
   ]
  },
  {
   "cell_type": "raw",
   "id": "494dd33d-987f-49b2-ae99-5219f51898cc",
   "metadata": {},
   "source": []
  },
  {
   "cell_type": "markdown",
   "id": "dd51b3d8-949e-4016-a9e6-d806ced86484",
   "metadata": {},
   "source": [
    "After confirming that at least one species group has a different mean for `sepal_width`, we can use `Tukey's HSD (Honestly Significant Difference) test` to identify which specific groups differ."
   ]
  },
  {
   "cell_type": "code",
   "execution_count": null,
   "id": "d36779d3-8640-44db-a1af-3a57e39de261",
   "metadata": {},
   "outputs": [],
   "source": []
  },
  {
   "cell_type": "code",
   "execution_count": 32,
   "id": "32ea07b3-3195-471d-8204-4313f06ba7e2",
   "metadata": {},
   "outputs": [],
   "source": [
    "import statsmodels.stats.multicomp as mc"
   ]
  },
  {
   "cell_type": "code",
   "execution_count": 33,
   "id": "780f94e8-6e79-4ec8-b901-dd9e422a8bb8",
   "metadata": {},
   "outputs": [
    {
     "data": {
      "text/html": [
       "<div>\n",
       "<style scoped>\n",
       "    .dataframe tbody tr th:only-of-type {\n",
       "        vertical-align: middle;\n",
       "    }\n",
       "\n",
       "    .dataframe tbody tr th {\n",
       "        vertical-align: top;\n",
       "    }\n",
       "\n",
       "    .dataframe thead th {\n",
       "        text-align: right;\n",
       "    }\n",
       "</style>\n",
       "<table border=\"1\" class=\"dataframe\">\n",
       "  <thead>\n",
       "    <tr style=\"text-align: right;\">\n",
       "      <th></th>\n",
       "      <th>sepal_length</th>\n",
       "      <th>sepal_width</th>\n",
       "      <th>petal_length</th>\n",
       "      <th>petal_width</th>\n",
       "      <th>species</th>\n",
       "    </tr>\n",
       "  </thead>\n",
       "  <tbody>\n",
       "    <tr>\n",
       "      <th>0</th>\n",
       "      <td>5.1</td>\n",
       "      <td>3.5</td>\n",
       "      <td>1.4</td>\n",
       "      <td>0.2</td>\n",
       "      <td>setosa</td>\n",
       "    </tr>\n",
       "    <tr>\n",
       "      <th>1</th>\n",
       "      <td>4.9</td>\n",
       "      <td>3.0</td>\n",
       "      <td>1.4</td>\n",
       "      <td>0.2</td>\n",
       "      <td>setosa</td>\n",
       "    </tr>\n",
       "  </tbody>\n",
       "</table>\n",
       "</div>"
      ],
      "text/plain": [
       "   sepal_length  sepal_width  petal_length  petal_width species\n",
       "0           5.1          3.5           1.4          0.2  setosa\n",
       "1           4.9          3.0           1.4          0.2  setosa"
      ]
     },
     "execution_count": 33,
     "metadata": {},
     "output_type": "execute_result"
    }
   ],
   "source": [
    "df.head(2)"
   ]
  },
  {
   "cell_type": "code",
   "execution_count": 34,
   "id": "6a6e2cd6-01bc-4dbf-8f50-5274d9e49dea",
   "metadata": {},
   "outputs": [
    {
     "data": {
      "text/plain": [
       "<statsmodels.sandbox.stats.multicomp.MultiComparison at 0x1b7f44a29d0>"
      ]
     },
     "execution_count": 34,
     "metadata": {},
     "output_type": "execute_result"
    }
   ],
   "source": [
    "comparison= mc.MultiComparison(data=df[\"sepal_width\"], groups=df[\"species\"])\n",
    "comparison"
   ]
  },
  {
   "cell_type": "code",
   "execution_count": 35,
   "id": "411375ae-1124-4d75-9598-23f6f31778fa",
   "metadata": {},
   "outputs": [
    {
     "data": {
      "text/plain": [
       "<statsmodels.sandbox.stats.multicomp.TukeyHSDResults at 0x1b7ef1a8bd0>"
      ]
     },
     "execution_count": 35,
     "metadata": {},
     "output_type": "execute_result"
    }
   ],
   "source": [
    "tucky_hsd= comparison.tukeyhsd(alpha=0.05)\n",
    "tucky_hsd"
   ]
  },
  {
   "cell_type": "code",
   "execution_count": 36,
   "id": "218f5c78-76d4-454b-b7b0-49ff68c2149c",
   "metadata": {},
   "outputs": [
    {
     "data": {
      "text/html": [
       "<table class=\"simpletable\">\n",
       "<caption>Multiple Comparison of Means - Tukey HSD, FWER=0.05</caption>\n",
       "<tr>\n",
       "    <th>group1</th>     <th>group2</th>   <th>meandiff</th>  <th>p-adj</th>  <th>lower</th>   <th>upper</th>  <th>reject</th>\n",
       "</tr>\n",
       "<tr>\n",
       "    <td>setosa</td>   <td>versicolor</td>  <td>-0.658</td>    <td>0.0</td>  <td>-0.8189</td> <td>-0.4971</td>  <td>True</td> \n",
       "</tr>\n",
       "<tr>\n",
       "    <td>setosa</td>    <td>virginica</td>  <td>-0.454</td>    <td>0.0</td>  <td>-0.6149</td> <td>-0.2931</td>  <td>True</td> \n",
       "</tr>\n",
       "<tr>\n",
       "  <td>versicolor</td>  <td>virginica</td>   <td>0.204</td>  <td>0.0088</td> <td>0.0431</td>  <td>0.3649</td>   <td>True</td> \n",
       "</tr>\n",
       "</table>"
      ],
      "text/latex": [
       "\\begin{center}\n",
       "\\begin{tabular}{ccccccc}\n",
       "\\toprule\n",
       "\\textbf{group1} & \\textbf{group2} & \\textbf{meandiff} & \\textbf{p-adj} & \\textbf{lower} & \\textbf{upper} & \\textbf{reject}  \\\\\n",
       "\\midrule\n",
       "     setosa     &    versicolor   &       -0.658      &      0.0       &    -0.8189     &    -0.4971     &       True       \\\\\n",
       "     setosa     &    virginica    &       -0.454      &      0.0       &    -0.6149     &    -0.2931     &       True       \\\\\n",
       "   versicolor   &    virginica    &       0.204       &     0.0088     &     0.0431     &     0.3649     &       True       \\\\\n",
       "\\bottomrule\n",
       "\\end{tabular}\n",
       "%\\caption{Multiple Comparison of Means - Tukey HSD, FWER=0.05}\n",
       "\\end{center}"
      ],
      "text/plain": [
       "<class 'statsmodels.iolib.table.SimpleTable'>"
      ]
     },
     "execution_count": 36,
     "metadata": {},
     "output_type": "execute_result"
    }
   ],
   "source": [
    "tucky_hsd.summary()"
   ]
  },
  {
   "cell_type": "raw",
   "id": "8ae31f8a-867e-4617-9ae6-b09463a73ee5",
   "metadata": {},
   "source": [
    "The Tukey HSD test reveals that the adjusted p-values are all less than 0.05, indicating that we reject the null hypothesis. This suggests that all species have significantly different means for 'sepal_width'; therefore, none of the species share the same mean"
   ]
  },
  {
   "cell_type": "code",
   "execution_count": null,
   "id": "03f78e1b-9090-4474-8b8c-399124daf94c",
   "metadata": {},
   "outputs": [],
   "source": []
  }
 ],
 "metadata": {
  "kernelspec": {
   "display_name": "Python 3 (ipykernel)",
   "language": "python",
   "name": "python3"
  },
  "language_info": {
   "codemirror_mode": {
    "name": "ipython",
    "version": 3
   },
   "file_extension": ".py",
   "mimetype": "text/x-python",
   "name": "python",
   "nbconvert_exporter": "python",
   "pygments_lexer": "ipython3",
   "version": "3.11.7"
  }
 },
 "nbformat": 4,
 "nbformat_minor": 5
}
